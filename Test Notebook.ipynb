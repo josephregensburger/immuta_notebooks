{
 "cells": [
  {
   "cell_type": "code",
   "execution_count": 4,
   "metadata": {},
   "outputs": [
    {
     "name": "stdout",
     "output_type": "stream",
     "text": [
      "Populating the interactive namespace from numpy and matplotlib\n",
      "Requirement already up-to-date: ipython-sql in /Users/jregensburger/anaconda2/lib/python2.7/site-packages\n",
      "Requirement already up-to-date: sqlparse in /Users/jregensburger/anaconda2/lib/python2.7/site-packages (from ipython-sql)\n",
      "Requirement already up-to-date: ipython>=1.0 in /Users/jregensburger/anaconda2/lib/python2.7/site-packages (from ipython-sql)\n",
      "Requirement already up-to-date: prettytable in /Users/jregensburger/anaconda2/lib/python2.7/site-packages (from ipython-sql)\n",
      "Requirement already up-to-date: six in /Users/jregensburger/anaconda2/lib/python2.7/site-packages (from ipython-sql)\n",
      "Requirement already up-to-date: sqlalchemy>=0.6.7 in /Users/jregensburger/anaconda2/lib/python2.7/site-packages (from ipython-sql)\n",
      "Requirement already up-to-date: ipython-genutils>=0.1.0 in /Users/jregensburger/anaconda2/lib/python2.7/site-packages (from ipython-sql)\n",
      "Requirement already up-to-date: decorator in /Users/jregensburger/anaconda2/lib/python2.7/site-packages (from ipython>=1.0->ipython-sql)\n",
      "Requirement already up-to-date: backports.shutil-get-terminal-size; python_version == \"2.7\" in /Users/jregensburger/anaconda2/lib/python2.7/site-packages (from ipython>=1.0->ipython-sql)\n",
      "Requirement already up-to-date: pickleshare in /Users/jregensburger/anaconda2/lib/python2.7/site-packages (from ipython>=1.0->ipython-sql)\n",
      "Requirement already up-to-date: simplegeneric>0.8 in /Users/jregensburger/anaconda2/lib/python2.7/site-packages (from ipython>=1.0->ipython-sql)\n",
      "Requirement already up-to-date: setuptools>=18.5 in /Users/jregensburger/anaconda2/lib/python2.7/site-packages (from ipython>=1.0->ipython-sql)\n",
      "Requirement already up-to-date: prompt-toolkit<2.0.0,>=1.0.4 in /Users/jregensburger/anaconda2/lib/python2.7/site-packages (from ipython>=1.0->ipython-sql)\n",
      "Requirement already up-to-date: pexpect; sys_platform != \"win32\" in /Users/jregensburger/anaconda2/lib/python2.7/site-packages (from ipython>=1.0->ipython-sql)\n",
      "Requirement already up-to-date: pathlib2; python_version == \"2.7\" or python_version == \"3.3\" in /Users/jregensburger/anaconda2/lib/python2.7/site-packages (from ipython>=1.0->ipython-sql)\n",
      "Requirement already up-to-date: pygments in /Users/jregensburger/anaconda2/lib/python2.7/site-packages (from ipython>=1.0->ipython-sql)\n",
      "Requirement already up-to-date: traitlets>=4.2 in /Users/jregensburger/anaconda2/lib/python2.7/site-packages (from ipython>=1.0->ipython-sql)\n",
      "Requirement already up-to-date: appnope; sys_platform == \"darwin\" in /Users/jregensburger/anaconda2/lib/python2.7/site-packages (from ipython>=1.0->ipython-sql)\n",
      "Requirement already up-to-date: wcwidth in /Users/jregensburger/anaconda2/lib/python2.7/site-packages (from prompt-toolkit<2.0.0,>=1.0.4->ipython>=1.0->ipython-sql)\n",
      "Requirement already up-to-date: ptyprocess>=0.5 in /Users/jregensburger/anaconda2/lib/python2.7/site-packages (from pexpect; sys_platform != \"win32\"->ipython>=1.0->ipython-sql)\n",
      "Requirement already up-to-date: scandir; python_version < \"3.5\" in /Users/jregensburger/anaconda2/lib/python2.7/site-packages (from pathlib2; python_version == \"2.7\" or python_version == \"3.3\"->ipython>=1.0->ipython-sql)\n",
      "Requirement already up-to-date: enum34; python_version == \"2.7\" in /Users/jregensburger/anaconda2/lib/python2.7/site-packages (from traitlets>=4.2->ipython>=1.0->ipython-sql)\n",
      "\u001b[33mYou are using pip version 9.0.1, however version 10.0.1 is available.\n",
      "You should consider upgrading via the 'pip install --upgrade pip' command.\u001b[0m\n"
     ]
    }
   ],
   "source": [
    "# Install required packages\n",
    "%pylab inline\n",
    "\n",
    "!pip install -U ipython-sql \n",
    "import getpass\n"
   ]
  },
  {
   "cell_type": "code",
   "execution_count": 5,
   "metadata": {},
   "outputs": [
    {
     "name": "stdout",
     "output_type": "stream",
     "text": [
      "········\n"
     ]
    },
    {
     "name": "stderr",
     "output_type": "stream",
     "text": [
      "ERROR:root:Line magic function `%sql` not found.\n"
     ]
    }
   ],
   "source": [
    "username = \"jregensburger\"\n",
    "immuta_db_host = \"db.stuartshirrell.immuta.limited\"\n",
    "password = getpass.getpass()\n",
    "connection_string = \"postgres://%(username)s:%(password)s@%(host)s:5432/immuta?sslmode=require\"%{\n",
    "    \"username\": username,\n",
    "    \"password\": password, \n",
    "    \"host\": immuta_db_host\n",
    "}\n",
    "%sql $connection_string"
   ]
  },
  {
   "cell_type": "code",
   "execution_count": null,
   "metadata": {
    "collapsed": true
   },
   "outputs": [],
   "source": []
  }
 ],
 "metadata": {
  "kernelspec": {
   "display_name": "Python 3",
   "language": "python",
   "name": "python3"
  },
  "language_info": {
   "codemirror_mode": {
    "name": "ipython",
    "version": 3
   },
   "file_extension": ".py",
   "mimetype": "text/x-python",
   "name": "python",
   "nbconvert_exporter": "python",
   "pygments_lexer": "ipython3",
   "version": "3.6.0"
  }
 },
 "nbformat": 4,
 "nbformat_minor": 2
}
